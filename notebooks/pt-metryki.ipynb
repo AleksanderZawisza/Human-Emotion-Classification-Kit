{
  "nbformat": 4,
  "nbformat_minor": 0,
  "metadata": {
    "colab": {
      "name": "calc_metrics",
      "provenance": []
    },
    "kernelspec": {
      "name": "python3",
      "display_name": "Python 3"
    },
    "language_info": {
      "name": "python"
    }
  },
  "cells": [
    {
      "cell_type": "code",
      "metadata": {
        "colab": {
          "base_uri": "https://localhost:8080/"
        },
        "id": "-tNMFDqwptJ3",
        "outputId": "fe73982f-4e00-49d0-f3d9-0dd11268a0db"
      },
      "source": [
        "from google.colab import drive\n",
        "drive.mount('/content/drive')"
      ],
      "execution_count": null,
      "outputs": [
        {
          "output_type": "stream",
          "name": "stdout",
          "text": [
            "Mounted at /content/drive\n"
          ]
        }
      ]
    },
    {
      "cell_type": "code",
      "metadata": {
        "id": "f3R6H6yrpw1T"
      },
      "source": [
        "! unzip -q '/content/drive/MyDrive/Inżynierka/Dane/test.zip'"
      ],
      "execution_count": null,
      "outputs": []
    },
    {
      "cell_type": "code",
      "metadata": {
        "id": "w5ubkqvq8EXF"
      },
      "source": [
        "import torch\n",
        "import os\n",
        "import torch.nn as nn\n",
        "import cv2\n",
        "import numpy as np\n",
        "import torchvision.transforms as tt\n",
        "from torchvision.datasets import ImageFolder\n",
        "from torch.utils.data import DataLoader\n",
        "import torch.nn.functional as F\n",
        "\n",
        "import time\n",
        "import torchvision\n",
        "\n",
        "from sklearn.preprocessing import OneHotEncoder\n",
        "import sklearn.metrics"
      ],
      "execution_count": null,
      "outputs": []
    },
    {
      "cell_type": "code",
      "metadata": {
        "id": "nn9w96IJ81A_"
      },
      "source": [
        "# Funkcje pomocnicze\n",
        "def accuracy(outputs, labels):\n",
        "    _, preds = torch.max(outputs, dim=1)\n",
        "    return torch.tensor(torch.sum(preds == labels).item() / len(preds))\n",
        "\n",
        "class ImageClassificationBase(nn.Module):\n",
        "    def training_step(self, batch):\n",
        "        images, labels = batch \n",
        "        out = self(images)\n",
        "        loss = F.cross_entropy(out, labels)\n",
        "        return loss\n",
        "    \n",
        "    def validation_step(self, batch):\n",
        "        images, labels = batch \n",
        "        out = self(images)\n",
        "        loss = F.cross_entropy(out, labels)\n",
        "        acc = accuracy(out, labels)\n",
        "        return {'val_loss': loss.detach(), 'val_acc': acc}\n",
        "        \n",
        "    def validation_epoch_end(self, outputs):\n",
        "        batch_losses = [x['val_loss'] for x in outputs]\n",
        "        epoch_loss = torch.stack(batch_losses).mean()\n",
        "        batch_accs = [x['val_acc'] for x in outputs]\n",
        "        epoch_acc = torch.stack(batch_accs).mean()\n",
        "        return {'val_loss': epoch_loss.item(), 'val_acc': epoch_acc.item()}\n",
        "    \n",
        "    def epoch_end(self, epoch, result):\n",
        "        print(\"Epoch [{}], last_lr: {:.5f}, train_loss: {:.4f}, val_loss: {:.4f}, val_acc: {:.4f}\".format(\n",
        "            epoch, result['lrs'][-1], result['train_loss'], result['val_loss'], result['val_acc']))"
      ],
      "execution_count": null,
      "outputs": []
    },
    {
      "cell_type": "code",
      "metadata": {
        "id": "423ugShO8t0j"
      },
      "source": [
        "# Model\n",
        "def conv_block(in_channels, out_channels, pool=False):\n",
        "    layers = [nn.Conv2d(in_channels, out_channels, kernel_size=3, padding=1), \n",
        "              nn.BatchNorm2d(out_channels), \n",
        "              nn.ReLU(inplace=True)]\n",
        "    if pool: layers.append(nn.MaxPool2d(2))\n",
        "    return nn.Sequential(*layers)\n",
        "\n",
        "class ResNet(ImageClassificationBase):\n",
        "    def __init__(self, in_channels, num_classes):\n",
        "        super().__init__()\n",
        "        \n",
        "        self.input = conv_block(in_channels, 64)\n",
        "\n",
        "        self.conv1 = conv_block(64, 64, pool=True)\n",
        "        self.res1 = nn.Sequential(conv_block(64, 32), conv_block(32, 64))\n",
        "        self.drop1 = nn.Dropout(0.5)\n",
        "        \n",
        "        self.conv2 = conv_block(64, 64, pool=True)\n",
        "        self.res2 = nn.Sequential(conv_block(64, 32), conv_block(32, 64))\n",
        "        self.drop2 = nn.Dropout(0.5)\n",
        "        \n",
        "        self.conv3 = conv_block(64, 64, pool=True)\n",
        "        self.res3 = nn.Sequential(conv_block(64, 32), conv_block(32, 64))\n",
        "        self.drop3 = nn.Dropout(0.5)\n",
        "        \n",
        "        self.classifier = nn.Sequential(nn.MaxPool2d(6), \n",
        "                                        nn.Flatten(),\n",
        "                                        nn.Linear(64, num_classes))\n",
        "        \n",
        "    def forward(self, xb):\n",
        "        out = self.input(xb)\n",
        "\n",
        "        out = self.conv1(out)\n",
        "        out = self.res1(out) + out\n",
        "        out = self.drop1(out)\n",
        "        \n",
        "        out = self.conv2(out)\n",
        "        out = self.res2(out) + out\n",
        "        out = self.drop2(out)\n",
        "        \n",
        "        out = self.conv3(out)\n",
        "        out = self.res3(out) + out\n",
        "        out = self.drop3(out)\n",
        "        \n",
        "        return self.classifier(out)"
      ],
      "execution_count": null,
      "outputs": []
    },
    {
      "cell_type": "code",
      "metadata": {
        "id": "Acrqxa-xsA_7"
      },
      "source": [
        "data_path = '/content/test'\n",
        "\n",
        "classes = ['anger', 'disgust', 'fear', 'happiness', 'neutrality', 'sadness', 'surprise']"
      ],
      "execution_count": null,
      "outputs": []
    },
    {
      "cell_type": "code",
      "metadata": {
        "colab": {
          "base_uri": "https://localhost:8080/"
        },
        "id": "CGB3hknq0K5_",
        "outputId": "0993abba-346d-4bb7-b67a-69076b10d38e"
      },
      "source": [
        "%cd /content/drive/MyDrive/Inżynierka/Collab/pytorch"
      ],
      "execution_count": null,
      "outputs": [
        {
          "output_type": "stream",
          "name": "stdout",
          "text": [
            "/content/drive/MyDrive/MojePliki/Inżynierka/Collab/pytorch\n"
          ]
        }
      ]
    },
    {
      "cell_type": "code",
      "metadata": {
        "id": "hMTnlvpbshj4"
      },
      "source": [
        "model_paths = []\n",
        "model_dirs = ['ResNet']\n",
        "\n",
        "for model_dir in model_dirs:\n",
        "    for filep in os.listdir(model_dir):\n",
        "        if filep.endswith(\"pth\"):\n",
        "            model_paths.append(model_dir+'/'+filep)"
      ],
      "execution_count": null,
      "outputs": []
    },
    {
      "cell_type": "code",
      "metadata": {
        "id": "d6Mu1LHfybkn"
      },
      "source": [
        "faceCascade = cv2.CascadeClassifier('FaceDetection/haarcascade_frontalface_default.xml')"
      ],
      "execution_count": null,
      "outputs": []
    },
    {
      "cell_type": "code",
      "metadata": {
        "id": "uZv_Hrelvsld"
      },
      "source": [
        "from PIL import Image\n",
        "\n",
        "def evaluate(model, val_loader):\n",
        "    model.eval()\n",
        "    outputs = [model.validation_step(batch) for batch in val_loader]\n",
        "    return model.validation_epoch_end(outputs)\n",
        "\n",
        "\n",
        "def predict_image(path, model, detect_face=False):\n",
        "  img = Image.open(path).convert('RGB')\n",
        "  img = np.asarray(img)\n",
        "  gray = cv2.cvtColor(img, cv2.COLOR_BGR2GRAY)\n",
        "  if detect_face:\n",
        "    faces = faceCascade.detectMultiScale(\n",
        "      gray,\n",
        "      scaleFactor=1.1,\n",
        "      minNeighbors=5,\n",
        "      minSize=(30, 30))\n",
        "    img = cv2.cvtColor(gray,cv2.COLOR_GRAY2BGR)\n",
        "    for (x, y, w, h) in faces:\n",
        "      #cv2.rectangle(image, (x, y), (x+w, y+h), (0, 255, 0), 2)\n",
        "      img = img[y:y+h, x:x+w]\n",
        "\n",
        "  preprocess = tt.Compose([tt.Resize((64,64)),\n",
        "                         tt.Grayscale(num_output_channels=1),\n",
        "                         tt.ToTensor()])\n",
        "\n",
        "  img_preprocessed = preprocess(Image.fromarray(img))\n",
        "  batch_img_tensor = torch.unsqueeze(img_preprocessed, 0)\n",
        "  out = model(batch_img_tensor)\n",
        "  _, index = torch.max(out, 1)\n",
        "  return index.item()"
      ],
      "execution_count": null,
      "outputs": []
    },
    {
      "cell_type": "code",
      "metadata": {
        "id": "0-ciMnBa9nC1"
      },
      "source": [
        "test_tfms = tt.Compose([tt.Resize((64,64)),\n",
        "                         tt.Grayscale(num_output_channels=1),\n",
        "                         tt.ToTensor()])\n",
        "\n",
        "test_ds = ImageFolder('/content/test', test_tfms)\n",
        "\n",
        "test_dl = DataLoader(test_ds, 490, num_workers=1, pin_memory=True)\n",
        "\n",
        "#test_dl = DeviceDataLoader(test_dl, device) # dla GPU"
      ],
      "execution_count": null,
      "outputs": []
    },
    {
      "cell_type": "code",
      "metadata": {
        "id": "MSa_YxhmpzlR"
      },
      "source": [
        "def compute_metrics(model_paths, data_path, compare_face_detection=True):\n",
        "    string1 = 'single prediction time (' + '490' + ' files)'\n",
        "    string2 = 'batch prediction time (' + '490' + ' files)'\n",
        "    metrics = [['model', 'face detection', 'model load time', 'single prediction time (one file)', string1, string2, 'accuracy', 'precision', 'f1 score', 'ROC AUC', 'confusion matrix']]\n",
        "    \n",
        "    onceortwice = 1\n",
        "    if compare_face_detection:\n",
        "        onceortwice += 1\n",
        "       \n",
        "    for model_path in model_paths:\n",
        "      for i in range(onceortwice):\n",
        "        if i==0:\n",
        "          face=False\n",
        "        if i==1:\n",
        "          face=True\n",
        "                \n",
        "        print(\"Evaluating \", model_path, \"...\", \" (FACE DETECTION)\" if face else ' (NO FACE DETECTION)', sep=\"\")\n",
        "                \n",
        "        row = []\n",
        "        row.append(model_path)\n",
        "        row.append(face)\n",
        "            \n",
        "        if i==0:\n",
        "            print(\"Loading model...\")\n",
        "            start_time = time.time()\n",
        "            model = torch.load(model_path)\n",
        "            load_time = time.time() - start_time\n",
        "            row.append(load_time)\n",
        "        if i==1:\n",
        "            print(\"Model already loaded.\")\n",
        "            row.append(\"-\")\n",
        "\n",
        "        y_true = []\n",
        "        y_pred = []\n",
        "        pred_times = []\n",
        "        print(\"Making predictions on single files...\")\n",
        "        model.eval()\n",
        "        for c in classes:\n",
        "          folder_path = os.path.join(data_path, c)\n",
        "          files = os.listdir(folder_path)\n",
        "          files.sort()\n",
        "          for filename in files:\n",
        "            if filename.endswith(\".png\"):\n",
        "              start_time = time.time()\n",
        "              y_pred.append(predict_image(os.path.join(folder_path,filename), model = model, detect_face=face))\n",
        "              y_true.append(classes.index(c))\n",
        "              pred_time = time.time() - start_time\n",
        "              pred_times.append(pred_time)\n",
        "\n",
        "        row.append(np.mean(pred_times))\n",
        "        row.append(sum(pred_times))\n",
        "            \n",
        "        print(\"Making predictions on all files...\")\n",
        "        start_time = time.time()\n",
        "        out = evaluate(model, test_dl)\n",
        "        pred_time = time.time() - start_time\n",
        "        row.append(pred_time)\n",
        "\n",
        "        print(\"Calculating metrics...\")\n",
        "        enc = OneHotEncoder(sparse = False)\n",
        "        one_hot_pred = enc.fit_transform(np.array(y_pred).reshape(-1, 1))\n",
        "        one_hot_true = enc.fit_transform(np.array(y_true).reshape(-1, 1))\n",
        "\n",
        "        acc = sklearn.metrics.accuracy_score(y_true, y_pred)\n",
        "        prec = sklearn.metrics.precision_score(y_true, y_pred, average='weighted')\n",
        "        f1 = sklearn.metrics.f1_score(y_true, y_pred, average='weighted')\n",
        "        roc_auc = sklearn.metrics.roc_auc_score(one_hot_true, one_hot_pred, average='weighted')\n",
        "        conf = sklearn.metrics.confusion_matrix(y_true, y_pred)\n",
        "\n",
        "        row.append(acc)\n",
        "        row.append(prec)\n",
        "        row.append(f1)\n",
        "        row.append(roc_auc)\n",
        "        row.append(conf)\n",
        "        \n",
        "        metrics.append(row)\n",
        "            \n",
        "    return metrics"
      ],
      "execution_count": null,
      "outputs": []
    },
    {
      "cell_type": "code",
      "metadata": {
        "id": "QNv7MEawKJlC"
      },
      "source": [
        "metrics = compute_metrics(model_paths, data_path)\n",
        "metrics"
      ],
      "execution_count": null,
      "outputs": []
    },
    {
      "cell_type": "code",
      "metadata": {
        "colab": {
          "base_uri": "https://localhost:8080/"
        },
        "id": "XYGoEymOR_5Y",
        "outputId": "deef7be2-0ed2-4889-a987-be843765e548"
      },
      "source": [
        "np.savetxt('metrics.csv', metrics, delimiter=',', fmt='%s')"
      ],
      "execution_count": null,
      "outputs": [
        {
          "output_type": "stream",
          "name": "stderr",
          "text": [
            "/usr/local/lib/python3.7/dist-packages/numpy/core/_asarray.py:83: VisibleDeprecationWarning: Creating an ndarray from ragged nested sequences (which is a list-or-tuple of lists-or-tuples-or ndarrays with different lengths or shapes) is deprecated. If you meant to do this, you must specify 'dtype=object' when creating the ndarray\n",
            "  return array(a, dtype, copy=False, order=order)\n"
          ]
        }
      ]
    },
    {
      "cell_type": "code",
      "metadata": {
        "colab": {
          "base_uri": "https://localhost:8080/"
        },
        "id": "T1NJM5wdTi9R",
        "outputId": "c8632bad-b0e0-49de-b87f-28e992a07bfe"
      },
      "source": [
        "confm1 = metrics[1][10]\n",
        "confm1 = np.round(confm1/70*100, 1)\n",
        "confm1"
      ],
      "execution_count": null,
      "outputs": [
        {
          "output_type": "execute_result",
          "data": {
            "text/plain": [
              "array([[ 85.7,   0. ,   0. ,   0. ,   2.9,  11.4,   0. ],\n",
              "       [ 84.3,   5.7,   0. ,   0. ,   1.4,   8.6,   0. ],\n",
              "       [ 37.1,   0. ,  37.1,   2.9,   1.4,  18.6,   2.9],\n",
              "       [  0. ,   0. ,   0. , 100. ,   0. ,   0. ,   0. ],\n",
              "       [ 20. ,   0. ,   0. ,   0. ,  64.3,  15.7,   0. ],\n",
              "       [ 20. ,   0. ,   0. ,   0. ,   5.7,  74.3,   0. ],\n",
              "       [  8.6,   0. ,  12.9,   0. ,   5.7,   1.4,  71.4]])"
            ]
          },
          "metadata": {},
          "execution_count": 126
        }
      ]
    },
    {
      "cell_type": "code",
      "metadata": {
        "colab": {
          "base_uri": "https://localhost:8080/"
        },
        "id": "EOpQVyZPbJQP",
        "outputId": "60541e9e-ebf8-4861-a815-364e5453c83c"
      },
      "source": [
        "confm2 = metrics[1][10]\n",
        "confm2 = np.round(confm2/70*100, 1)\n",
        "confm2"
      ],
      "execution_count": null,
      "outputs": [
        {
          "output_type": "execute_result",
          "data": {
            "text/plain": [
              "array([[ 85.7,   0. ,   0. ,   0. ,   2.9,  11.4,   0. ],\n",
              "       [ 84.3,   5.7,   0. ,   0. ,   1.4,   8.6,   0. ],\n",
              "       [ 37.1,   0. ,  37.1,   2.9,   1.4,  18.6,   2.9],\n",
              "       [  0. ,   0. ,   0. , 100. ,   0. ,   0. ,   0. ],\n",
              "       [ 20. ,   0. ,   0. ,   0. ,  64.3,  15.7,   0. ],\n",
              "       [ 20. ,   0. ,   0. ,   0. ,   5.7,  74.3,   0. ],\n",
              "       [  8.6,   0. ,  12.9,   0. ,   5.7,   1.4,  71.4]])"
            ]
          },
          "metadata": {},
          "execution_count": 127
        }
      ]
    },
    {
      "cell_type": "code",
      "metadata": {
        "colab": {
          "base_uri": "https://localhost:8080/",
          "height": 445
        },
        "id": "g2qHhymMU79j",
        "outputId": "182eeafd-8fa9-4a4c-9835-e8b577533f41"
      },
      "source": [
        "import matplotlib.pyplot as plt\n",
        "from sklearn.metrics import ConfusionMatrixDisplay\n",
        "\n",
        "plt.rcParams[\"figure.figsize\"] = (7,7)\n",
        "\n",
        "disp = ConfusionMatrixDisplay(confusion_matrix=confm1,\n",
        "                              display_labels=classes)\n",
        "\n",
        "disp.plot(cmap=plt.cm.Blues, values_format='.3g')\n",
        "disp.im_.set_clim(0, 100)\n",
        "plt.xticks(rotation=45)\n",
        "plt.title(\"Zmodyfikowany ResNet40\")\n",
        "plt.show()"
      ],
      "execution_count": null,
      "outputs": [
        {
          "output_type": "display_data",
          "data": {
            "image/png": "[encoded data removed]",
            "text/plain": [
              "<Figure size 504x504 with 2 Axes>"
            ]
          },
          "metadata": {
            "needs_background": "light"
          }
        }
      ]
    },
    {
      "cell_type": "code",
      "metadata": {
        "colab": {
          "base_uri": "https://localhost:8080/",
          "height": 445
        },
        "id": "oVonNyeTbOY8",
        "outputId": "38c45646-e8cc-4685-ca08-1aef5f50935a"
      },
      "source": [
        "import matplotlib.pyplot as plt\n",
        "from sklearn.metrics import ConfusionMatrixDisplay\n",
        "\n",
        "plt.rcParams[\"figure.figsize\"] = (7,7)\n",
        "\n",
        "disp = ConfusionMatrixDisplay(confusion_matrix=confm2,\n",
        "                              display_labels=classes)\n",
        "\n",
        "disp.plot(cmap=plt.cm.Blues, values_format='.3g')\n",
        "disp.im_.set_clim(0, 100)\n",
        "plt.xticks(rotation=45)\n",
        "plt.title(\"Zmodyfikowany ResNet40 z wykrywaniem twarzy\")\n",
        "plt.show()"
      ],
      "execution_count": null,
      "outputs": [
        {
          "output_type": "display_data",
          "data": {
            "image/png": "[encoded data removed]",
            "text/plain": [
              "<Figure size 504x504 with 2 Axes>"
            ]
          },
          "metadata": {
            "needs_background": "light"
          }
        }
      ]
    },
    {
      "cell_type": "markdown",
      "metadata": {
        "id": "ZvKs--n0q3JI"
      },
      "source": [
        "Testowanie"
      ]
    },
    {
      "cell_type": "code",
      "metadata": {
        "colab": {
          "base_uri": "https://localhost:8080/",
          "height": 36
        },
        "id": "lgWzfo0fq47J",
        "outputId": "0a2a212b-f93f-4ef4-d2d7-7dfafae741c3"
      },
      "source": [
        "np.__version__"
      ],
      "execution_count": null,
      "outputs": [
        {
          "output_type": "execute_result",
          "data": {
            "application/vnd.google.colaboratory.intrinsic+json": {
              "type": "string"
            },
            "text/plain": [
              "'1.19.5'"
            ]
          },
          "metadata": {},
          "execution_count": 9
        }
      ]
    },
    {
      "cell_type": "code",
      "metadata": {
        "colab": {
          "base_uri": "https://localhost:8080/",
          "height": 36
        },
        "id": "6xyUZg4cHM4t",
        "outputId": "e68d52c6-6811-47c3-e915-23243424b9ce"
      },
      "source": [
        "torch.__version__"
      ],
      "execution_count": null,
      "outputs": [
        {
          "output_type": "execute_result",
          "data": {
            "application/vnd.google.colaboratory.intrinsic+json": {
              "type": "string"
            },
            "text/plain": [
              "'1.10.0+cu111'"
            ]
          },
          "metadata": {},
          "execution_count": 3
        }
      ]
    },
    {
      "cell_type": "code",
      "metadata": {
        "colab": {
          "base_uri": "https://localhost:8080/",
          "height": 36
        },
        "id": "Mk2pUElKHZoi",
        "outputId": "908b515d-397a-499e-e8bf-9c29c6fb564c"
      },
      "source": [
        "torchvision.__version__"
      ],
      "execution_count": null,
      "outputs": [
        {
          "output_type": "execute_result",
          "data": {
            "application/vnd.google.colaboratory.intrinsic+json": {
              "type": "string"
            },
            "text/plain": [
              "'0.11.1+cu111'"
            ]
          },
          "metadata": {},
          "execution_count": 7
        }
      ]
    }
  ]
}